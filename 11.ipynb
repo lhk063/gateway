{
 "metadata": {
  "language_info": {
   "codemirror_mode": {
    "name": "ipython",
    "version": 3
   },
   "file_extension": ".py",
   "mimetype": "text/x-python",
   "name": "python",
   "nbconvert_exporter": "python",
   "pygments_lexer": "ipython3",
   "version": "3.7.6-final"
  },
  "orig_nbformat": 2,
  "kernelspec": {
   "name": "python3",
   "display_name": "Python 3",
   "language": "python"
  }
 },
 "nbformat": 4,
 "nbformat_minor": 2,
 "cells": [
  {
   "cell_type": "code",
   "execution_count": 1,
   "metadata": {},
   "outputs": [],
   "source": [
    "# HongJO Corporation."
   ]
  },
  {
   "cell_type": "code",
   "execution_count": 23,
   "metadata": {
    "tags": []
   },
   "outputs": [
    {
     "output_type": "stream",
     "name": "stdout",
     "text": [
      "0\n1\n2\n3\n4\n5\n\n12385 \n"
     ]
    }
   ],
   "source": [
    "import requests\n",
    "\n",
    "import time\n",
    "\n",
    "from bs4 import BeautifulSoup\n",
    "\n",
    "import telegram\n",
    "#!/usr/bin/env python\n",
    "\n",
    "# encoding=utf-8\n",
    "\n",
    "# pip install python telegram\n",
    "\n",
    "bot = telegram.Bot(token='1533748242:AAGNjEo_5YIDK8rpT64GuD9wBAV8CBi18zU')\n",
    "\n",
    "\n",
    "if __name__ == '__main__':\n",
    "\n",
    "    # 제일 최신 게시글의 번호 저장\n",
    "    latest_num = 0\n",
    "    jsh = []\n",
    "\n",
    "    \n",
    "    while True:\n",
    "        req = requests.get('https://www.ddengle.com/market_personal')\n",
    "        html = req.text\n",
    "        soup = BeautifulSoup(html, 'html.parser')\n",
    "        posts = soup.find(\"tbody\").find_all(\"tr\") # 편법으로됨\n",
    "\n",
    "        for i in range(len(posts)):\n",
    "            try:\n",
    "                if posts[i].attrs['class'][0] == \"notice\":\n",
    "                    # print(i)\n",
    "                    continue\n",
    "            except:\n",
    "                jsh.append(posts[i])\n",
    "\n",
    "        posts = jsh[0]        \n",
    "        post_num = posts.find(\"td\", {\"class\" : \"no\"}).text\n",
    "        # print(post_num)\n",
    "    \n",
    "        # 제일 최신 게시글 번호와 30초 마다 크롤링한 첫번째 게시글의 번호 비교\n",
    "        # 비교 후 같지 않으면 최신 게시글 업데이트 된 것으로 텔레그램 봇으로 업데이트 메시지 전송\n",
    "        if latest_num != post_num :\n",
    "            latest_num = post_num\n",
    "            link = posts.find(\"td\", { \"class\" : \"title\"}).find(\"a\").attrs['href']\n",
    "            title = posts.find(\"td\", {\"class\" : \"title\"}).find(\"a\").text\n",
    "\n",
    "            text = '<땡글 게시글 업데이트>'+'\\n'+title+'\\n'+link  \n",
    "            bot.sendMessage(-1001255979900, text)\n",
    "            # 프롬프트 로그\n",
    "            print(post_num)\n",
    "            print(title)\n",
    "            print(link)\n",
    "        time.sleep(30) # 30초 간격으로 크롤링\n",
    "        print('bot 동작 중 현재 게시글 번호' + latest_num)\n",
    "\n",
    "    "
   ]
  },
  {
   "cell_type": "code",
   "execution_count": null,
   "metadata": {},
   "outputs": [],
   "source": [
    "\n"
   ]
  },
  {
   "cell_type": "code",
   "execution_count": null,
   "metadata": {},
   "outputs": [],
   "source": [
    "\n",
    "\n",
    "\n",
    "\n",
    "\n",
    "\n",
    "\n",
    "\n"
   ]
  }
 ]
}